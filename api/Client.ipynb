{
 "cells": [
  {
   "cell_type": "code",
   "execution_count": 5,
   "metadata": {},
   "outputs": [],
   "source": [
    "import requests"
   ]
  },
  {
   "cell_type": "code",
   "execution_count": 6,
   "metadata": {},
   "outputs": [],
   "source": [
    "def send_request(\n",
    "    instructions: list[list[dict[str, str]]]\n",
    ") -> list[list[dict[str, str]]]:\n",
    "    \"\"\"\n",
    "    Sends a query to the server and returns the result.\n",
    "    \"\"\"\n",
    "    response = requests.post(\"http://localhost:8000\", json=instructions)\n",
    "    return response.json()\n",
    "\n",
    "\n",
    "def ask(\n",
    "    user_prompt: str,\n",
    "    *,\n",
    "    system_prompt: str = \"\",\n",
    ") -> str:\n",
    "    instructions = [\n",
    "        [\n",
    "            {\"role\": \"system\", \"content\": system_prompt},\n",
    "            {\"role\": \"user\", \"content\": user_prompt},\n",
    "        ]\n",
    "    ]\n",
    "    response = send_request(instructions)\n",
    "    return response[0][\"generation\"][\"content\"]"
   ]
  },
  {
   "cell_type": "code",
   "execution_count": 5,
   "metadata": {},
   "outputs": [
    {
     "data": {
      "text/plain": [
       "\" Volodymyr Zelenskyy is the President of Ukraine. He was born on April 30, 1978, in Kiev, Ukraine. He studied law at Kiev National University of Trade and Economics and later earned a master's degree in international law from the University of London.\\n\\nZelenskyy began his political career in 2014, when he was elected as the Mayor of Kiev. He served in this position until 2019, when he announced that he would run for President of Ukraine in the upcoming elections.\\n\\nZelenskyy's campaign focused on issues such as corruption, economic development, and the country's relationship with Russia. He ran on a platform of reform and change, and his campaign was seen as a challenge to the incumbent President, Petro Poroshenko.\\n\\nOn November 30, 2019, Zelenskyy won the presidential election, defeating Poroshenko and becoming the youngest President in Ukraine's history at the age of 41.\\n\\nSince taking office, Zelenskyy has implemented a number of reforms, including the creation of a new anti-corruption body and the introduction of a new tax system. He has also sought to improve relations with Russia and has taken steps to address the ongoing conflict in eastern Ukraine.\\n\\nZelenskyy has also been known for his humorous and outspoken personality, and has used social media to connect with the Ukrainian people and address their concerns. He has also been involved in a number of high-profile international events, including the G7 summit in 2020.\""
      ]
     },
     "execution_count": 5,
     "metadata": {},
     "output_type": "execute_result"
    }
   ],
   "source": [
    "ask(\"Who is Volodymyr Zelenskyy\", system_prompt=\"\")"
   ]
  },
  {
   "cell_type": "code",
   "execution_count": 6,
   "metadata": {},
   "outputs": [
    {
     "name": "stdout",
     "output_type": "stream",
     "text": [
      " Volodymyr Zelenskyy is the President of Ukraine. He was born on April 30, 1978, in Kiev, Ukraine. He studied law at Kiev National University of Trade and Economics and later earned a master's degree in international law from the University of London.\n",
      "\n",
      "Zelenskyy began his political career in 2014, when he was elected as the Mayor of Kiev. He served in this position until 2019, when he announced that he would run for President of Ukraine in the upcoming elections.\n",
      "\n",
      "Zelenskyy's campaign focused on issues such as corruption, economic development, and the country's relationship with Russia. He ran on a platform of reform and change, and his campaign was seen as a challenge to the incumbent President, Petro Poroshenko.\n",
      "\n",
      "On November 30, 2019, Zelenskyy won the presidential election, defeating Poroshenko and becoming the youngest President in Ukraine's history at the age of 41.\n",
      "\n",
      "Since taking office, Zelenskyy has implemented a number of reforms, including the creation of a new anti-corruption body and the introduction of a new tax system. He has also sought to improve relations with Russia and has taken steps to address the ongoing conflict in eastern Ukraine.\n",
      "\n",
      "Zelenskyy has also been known for his humorous and outspoken personality, and has used social media to connect with the Ukrainian people and address their concerns. He has also been involved in a number of high-profile international events, including the G7 summit in 2020.\n"
     ]
    }
   ],
   "source": [
    "print(_)"
   ]
  },
  {
   "cell_type": "code",
   "execution_count": 7,
   "metadata": {},
   "outputs": [
    {
     "data": {
      "text/plain": [
       "234"
      ]
     },
     "execution_count": 7,
     "metadata": {},
     "output_type": "execute_result"
    }
   ],
   "source": [
    "\"\"\"\n",
    "Volodymyr Zelenskyy is the President of Ukraine. He was born on April 30, 1978, in Kiev, Ukraine. He studied law at Kiev National University of Trade and Economics and later earned a master's degree in international law from the University of London.\n",
    "\n",
    "Zelenskyy began his political career in 2014, when he was elected as the Mayor of Kiev. He served in this position until 2019, when he announced that he would run for President of Ukraine in the upcoming elections.\n",
    "\n",
    "Zelenskyy's campaign focused on issues such as corruption, economic development, and the country's relationship with Russia. He ran on a platform of reform and change, and his campaign was seen as a challenge to the incumbent President, Petro Poroshenko.\n",
    "\n",
    "On November 30, 2019, Zelenskyy won the presidential election, defeating Poroshenko and becoming the youngest President in Ukraine's history at the age of 41.\n",
    "\n",
    "Since taking office, Zelenskyy has implemented a number of reforms, including the creation of a new anti-corruption body and the introduction of a new tax system. He has also sought to improve relations with Russia and has taken steps to address the ongoing conflict in eastern Ukraine.\n",
    "\n",
    "Zelenskyy has also been known for his humorous and outspoken personality, and has used social media to connect with the Ukrainian people and address their concerns. He has also been involved in a number of high-profile international events, including the G7 summit in 2020.\n",
    "\"\"\".split().__len__()"
   ]
  },
  {
   "cell_type": "code",
   "execution_count": null,
   "metadata": {},
   "outputs": [],
   "source": [
    "ask(\"What's the square root of 81?\", system_prompt=\"\")"
   ]
  },
  {
   "cell_type": "code",
   "execution_count": null,
   "metadata": {},
   "outputs": [],
   "source": [
    "ask(\"A function that computes Fibonacci sequence\", system_prompt=\"\")"
   ]
  },
  {
   "cell_type": "code",
   "execution_count": 9,
   "metadata": {},
   "outputs": [
    {
     "data": {
      "text/plain": [
       "' Here is a function that computes the Fibonacci sequence:\\n```\\ndef fibonacci(n):\\n    if n <= 1:\\n        return n\\n    else:\\n        return fibonacci(n-1) + fibonacci(n-2)\\n```\\nThis function takes an integer `n` as input and returns the `n`-th Fibonacci number. The function uses a recursive approach, where it calls itself with the arguments `n-1` and `n-2`, and then adds the results together to get the final answer.\\n\\nFor example, if we call the function with `n=5`, it will compute the Fibonacci sequence up to the 5th term, which is 5, and return the result:\\n```\\nfibonacci(5) = fibonacci(4) + fibonacci(3)\\nfibonacci(4) = fibonacci(3) + fibonacci(2)\\nfibonacci(3) = fibonacci(2) + fibonacci(1)\\nfibonacci(2) = fibonacci(1) + fibonacci(0)\\nfibonacci(1) = 1\\nfibonacci(0) = 0\\n```\\nSo the final result is:\\n```\\nfibonacci(5) = fibonacci(4) + fibonacci(3)\\n              = fibonacci(3) + fibonacci(2)\\n              = fibonacci(2) + fibonacci(1)\\n              = fibonacci(1) + fibonacci(0)\\n              = 1 + 0\\n              = 1\\n```\\nThis function is a simple example of a recursive function, and it can be used to compute the Fibonacci sequence for any positive integer `n`.'"
      ]
     },
     "execution_count": 9,
     "metadata": {},
     "output_type": "execute_result"
    }
   ],
   "source": [
    "ask(\"Function to compute a fibonacci sequence\")"
   ]
  },
  {
   "cell_type": "code",
   "execution_count": 7,
   "metadata": {},
   "outputs": [
    {
     "data": {
      "text/plain": [
       "' Sure, I can do that! The result of 7 + 3 is 10.'"
      ]
     },
     "execution_count": 7,
     "metadata": {},
     "output_type": "execute_result"
    }
   ],
   "source": [
    "ask(\"Respond with a single number that is a result of 7 + 3.\")"
   ]
  },
  {
   "cell_type": "code",
   "execution_count": 8,
   "metadata": {},
   "outputs": [
    {
     "ename": "JSONDecodeError",
     "evalue": "Expecting value: line 1 column 1 (char 0)",
     "output_type": "error",
     "traceback": [
      "\u001b[0;31m---------------------------------------------------------------------------\u001b[0m",
      "\u001b[0;31mJSONDecodeError\u001b[0m                           Traceback (most recent call last)",
      "File \u001b[0;32m~/anaconda3/envs/llama/lib/python3.10/site-packages/requests/models.py:971\u001b[0m, in \u001b[0;36mResponse.json\u001b[0;34m(self, **kwargs)\u001b[0m\n\u001b[1;32m    970\u001b[0m \u001b[39mtry\u001b[39;00m:\n\u001b[0;32m--> 971\u001b[0m     \u001b[39mreturn\u001b[39;00m complexjson\u001b[39m.\u001b[39;49mloads(\u001b[39mself\u001b[39;49m\u001b[39m.\u001b[39;49mtext, \u001b[39m*\u001b[39;49m\u001b[39m*\u001b[39;49mkwargs)\n\u001b[1;32m    972\u001b[0m \u001b[39mexcept\u001b[39;00m JSONDecodeError \u001b[39mas\u001b[39;00m e:\n\u001b[1;32m    973\u001b[0m     \u001b[39m# Catch JSON-related errors and raise as requests.JSONDecodeError\u001b[39;00m\n\u001b[1;32m    974\u001b[0m     \u001b[39m# This aliases json.JSONDecodeError and simplejson.JSONDecodeError\u001b[39;00m\n",
      "File \u001b[0;32m~/anaconda3/envs/llama/lib/python3.10/json/__init__.py:346\u001b[0m, in \u001b[0;36mloads\u001b[0;34m(s, cls, object_hook, parse_float, parse_int, parse_constant, object_pairs_hook, **kw)\u001b[0m\n\u001b[1;32m    343\u001b[0m \u001b[39mif\u001b[39;00m (\u001b[39mcls\u001b[39m \u001b[39mis\u001b[39;00m \u001b[39mNone\u001b[39;00m \u001b[39mand\u001b[39;00m object_hook \u001b[39mis\u001b[39;00m \u001b[39mNone\u001b[39;00m \u001b[39mand\u001b[39;00m\n\u001b[1;32m    344\u001b[0m         parse_int \u001b[39mis\u001b[39;00m \u001b[39mNone\u001b[39;00m \u001b[39mand\u001b[39;00m parse_float \u001b[39mis\u001b[39;00m \u001b[39mNone\u001b[39;00m \u001b[39mand\u001b[39;00m\n\u001b[1;32m    345\u001b[0m         parse_constant \u001b[39mis\u001b[39;00m \u001b[39mNone\u001b[39;00m \u001b[39mand\u001b[39;00m object_pairs_hook \u001b[39mis\u001b[39;00m \u001b[39mNone\u001b[39;00m \u001b[39mand\u001b[39;00m \u001b[39mnot\u001b[39;00m kw):\n\u001b[0;32m--> 346\u001b[0m     \u001b[39mreturn\u001b[39;00m _default_decoder\u001b[39m.\u001b[39;49mdecode(s)\n\u001b[1;32m    347\u001b[0m \u001b[39mif\u001b[39;00m \u001b[39mcls\u001b[39m \u001b[39mis\u001b[39;00m \u001b[39mNone\u001b[39;00m:\n",
      "File \u001b[0;32m~/anaconda3/envs/llama/lib/python3.10/json/decoder.py:337\u001b[0m, in \u001b[0;36mJSONDecoder.decode\u001b[0;34m(self, s, _w)\u001b[0m\n\u001b[1;32m    333\u001b[0m \u001b[39m\u001b[39m\u001b[39m\"\"\"Return the Python representation of ``s`` (a ``str`` instance\u001b[39;00m\n\u001b[1;32m    334\u001b[0m \u001b[39mcontaining a JSON document).\u001b[39;00m\n\u001b[1;32m    335\u001b[0m \n\u001b[1;32m    336\u001b[0m \u001b[39m\"\"\"\u001b[39;00m\n\u001b[0;32m--> 337\u001b[0m obj, end \u001b[39m=\u001b[39m \u001b[39mself\u001b[39;49m\u001b[39m.\u001b[39;49mraw_decode(s, idx\u001b[39m=\u001b[39;49m_w(s, \u001b[39m0\u001b[39;49m)\u001b[39m.\u001b[39;49mend())\n\u001b[1;32m    338\u001b[0m end \u001b[39m=\u001b[39m _w(s, end)\u001b[39m.\u001b[39mend()\n",
      "File \u001b[0;32m~/anaconda3/envs/llama/lib/python3.10/json/decoder.py:355\u001b[0m, in \u001b[0;36mJSONDecoder.raw_decode\u001b[0;34m(self, s, idx)\u001b[0m\n\u001b[1;32m    354\u001b[0m \u001b[39mexcept\u001b[39;00m \u001b[39mStopIteration\u001b[39;00m \u001b[39mas\u001b[39;00m err:\n\u001b[0;32m--> 355\u001b[0m     \u001b[39mraise\u001b[39;00m JSONDecodeError(\u001b[39m\"\u001b[39m\u001b[39mExpecting value\u001b[39m\u001b[39m\"\u001b[39m, s, err\u001b[39m.\u001b[39mvalue) \u001b[39mfrom\u001b[39;00m \u001b[39mNone\u001b[39;00m\n\u001b[1;32m    356\u001b[0m \u001b[39mreturn\u001b[39;00m obj, end\n",
      "\u001b[0;31mJSONDecodeError\u001b[0m: Expecting value: line 1 column 1 (char 0)",
      "\nDuring handling of the above exception, another exception occurred:\n",
      "\u001b[0;31mJSONDecodeError\u001b[0m                           Traceback (most recent call last)",
      "\u001b[1;32m/home/olokshyn/Projects/llama/codellama/api/Client.ipynb Cell 10\u001b[0m line \u001b[0;36m1\n\u001b[0;32m----> <a href='vscode-notebook-cell:/home/olokshyn/Projects/llama/codellama/api/Client.ipynb#X11sZmlsZQ%3D%3D?line=0'>1</a>\u001b[0m ask(\n\u001b[1;32m      <a href='vscode-notebook-cell:/home/olokshyn/Projects/llama/codellama/api/Client.ipynb#X11sZmlsZQ%3D%3D?line=1'>2</a>\u001b[0m \u001b[39m    \u001b[39;49m\u001b[39m\"\"\"\u001b[39;49;00m\n\u001b[1;32m      <a href='vscode-notebook-cell:/home/olokshyn/Projects/llama/codellama/api/Client.ipynb#X11sZmlsZQ%3D%3D?line=2'>3</a>\u001b[0m \u001b[39mdef partition(array, low, high):\u001b[39;49;00m\n\u001b[1;32m      <a href='vscode-notebook-cell:/home/olokshyn/Projects/llama/codellama/api/Client.ipynb#X11sZmlsZQ%3D%3D?line=3'>4</a>\u001b[0m \u001b[39m    pivot = array[high]\u001b[39;49;00m\n\u001b[1;32m      <a href='vscode-notebook-cell:/home/olokshyn/Projects/llama/codellama/api/Client.ipynb#X11sZmlsZQ%3D%3D?line=4'>5</a>\u001b[0m \n\u001b[1;32m      <a href='vscode-notebook-cell:/home/olokshyn/Projects/llama/codellama/api/Client.ipynb#X11sZmlsZQ%3D%3D?line=5'>6</a>\u001b[0m \u001b[39m    i = low - 1\u001b[39;49;00m\n\u001b[1;32m      <a href='vscode-notebook-cell:/home/olokshyn/Projects/llama/codellama/api/Client.ipynb#X11sZmlsZQ%3D%3D?line=6'>7</a>\u001b[0m \n\u001b[1;32m      <a href='vscode-notebook-cell:/home/olokshyn/Projects/llama/codellama/api/Client.ipynb#X11sZmlsZQ%3D%3D?line=7'>8</a>\u001b[0m \u001b[39m    for j in range(low, high):\u001b[39;49;00m\n\u001b[1;32m      <a href='vscode-notebook-cell:/home/olokshyn/Projects/llama/codellama/api/Client.ipynb#X11sZmlsZQ%3D%3D?line=8'>9</a>\u001b[0m \u001b[39m        if array[j] <= pivot:\u001b[39;49;00m\n\u001b[1;32m     <a href='vscode-notebook-cell:/home/olokshyn/Projects/llama/codellama/api/Client.ipynb#X11sZmlsZQ%3D%3D?line=9'>10</a>\u001b[0m \u001b[39m            i = i + 1\u001b[39;49;00m\n\u001b[1;32m     <a href='vscode-notebook-cell:/home/olokshyn/Projects/llama/codellama/api/Client.ipynb#X11sZmlsZQ%3D%3D?line=10'>11</a>\u001b[0m \n\u001b[1;32m     <a href='vscode-notebook-cell:/home/olokshyn/Projects/llama/codellama/api/Client.ipynb#X11sZmlsZQ%3D%3D?line=11'>12</a>\u001b[0m \u001b[39m            (array[i], array[j]) = (array[j], array[i])\u001b[39;49;00m\n\u001b[1;32m     <a href='vscode-notebook-cell:/home/olokshyn/Projects/llama/codellama/api/Client.ipynb#X11sZmlsZQ%3D%3D?line=12'>13</a>\u001b[0m \n\u001b[1;32m     <a href='vscode-notebook-cell:/home/olokshyn/Projects/llama/codellama/api/Client.ipynb#X11sZmlsZQ%3D%3D?line=13'>14</a>\u001b[0m \u001b[39m    (array[i + 1], array[high]) = (array[high], array[i + 1])\u001b[39;49;00m\n\u001b[1;32m     <a href='vscode-notebook-cell:/home/olokshyn/Projects/llama/codellama/api/Client.ipynb#X11sZmlsZQ%3D%3D?line=14'>15</a>\u001b[0m \n\u001b[1;32m     <a href='vscode-notebook-cell:/home/olokshyn/Projects/llama/codellama/api/Client.ipynb#X11sZmlsZQ%3D%3D?line=15'>16</a>\u001b[0m \u001b[39m    return i + 1\u001b[39;49;00m\n\u001b[1;32m     <a href='vscode-notebook-cell:/home/olokshyn/Projects/llama/codellama/api/Client.ipynb#X11sZmlsZQ%3D%3D?line=16'>17</a>\u001b[0m \n\u001b[1;32m     <a href='vscode-notebook-cell:/home/olokshyn/Projects/llama/codellama/api/Client.ipynb#X11sZmlsZQ%3D%3D?line=17'>18</a>\u001b[0m \n\u001b[1;32m     <a href='vscode-notebook-cell:/home/olokshyn/Projects/llama/codellama/api/Client.ipynb#X11sZmlsZQ%3D%3D?line=18'>19</a>\u001b[0m \u001b[39mdef quickSort(array, low, high):\u001b[39;49;00m\n\u001b[1;32m     <a href='vscode-notebook-cell:/home/olokshyn/Projects/llama/codellama/api/Client.ipynb#X11sZmlsZQ%3D%3D?line=19'>20</a>\u001b[0m \u001b[39m    if low < high:\u001b[39;49;00m\n\u001b[1;32m     <a href='vscode-notebook-cell:/home/olokshyn/Projects/llama/codellama/api/Client.ipynb#X11sZmlsZQ%3D%3D?line=20'>21</a>\u001b[0m \u001b[39m        pi = partition(array, low, high)\u001b[39;49;00m\n\u001b[1;32m     <a href='vscode-notebook-cell:/home/olokshyn/Projects/llama/codellama/api/Client.ipynb#X11sZmlsZQ%3D%3D?line=21'>22</a>\u001b[0m \n\u001b[1;32m     <a href='vscode-notebook-cell:/home/olokshyn/Projects/llama/codellama/api/Client.ipynb#X11sZmlsZQ%3D%3D?line=22'>23</a>\u001b[0m \u001b[39m        quickSort(array, low, pi - 1)\u001b[39;49;00m\n\u001b[1;32m     <a href='vscode-notebook-cell:/home/olokshyn/Projects/llama/codellama/api/Client.ipynb#X11sZmlsZQ%3D%3D?line=23'>24</a>\u001b[0m \n\u001b[1;32m     <a href='vscode-notebook-cell:/home/olokshyn/Projects/llama/codellama/api/Client.ipynb#X11sZmlsZQ%3D%3D?line=24'>25</a>\u001b[0m \u001b[39m        quickSort(array, pi + 1, high)\u001b[39;49;00m\n\u001b[1;32m     <a href='vscode-notebook-cell:/home/olokshyn/Projects/llama/codellama/api/Client.ipynb#X11sZmlsZQ%3D%3D?line=25'>26</a>\u001b[0m \u001b[39m==========\u001b[39;49;00m\n\u001b[1;32m     <a href='vscode-notebook-cell:/home/olokshyn/Projects/llama/codellama/api/Client.ipynb#X11sZmlsZQ%3D%3D?line=26'>27</a>\u001b[0m \u001b[39mdef partition(arr, lo, hi):\u001b[39;49;00m\n\u001b[1;32m     <a href='vscode-notebook-cell:/home/olokshyn/Projects/llama/codellama/api/Client.ipynb#X11sZmlsZQ%3D%3D?line=27'>28</a>\u001b[0m \u001b[39m    pivot = arr[hi]\u001b[39;49;00m\n\u001b[1;32m     <a href='vscode-notebook-cell:/home/olokshyn/Projects/llama/codellama/api/Client.ipynb#X11sZmlsZQ%3D%3D?line=28'>29</a>\u001b[0m \u001b[39m    i = lo - 1\u001b[39;49;00m\n\u001b[1;32m     <a href='vscode-notebook-cell:/home/olokshyn/Projects/llama/codellama/api/Client.ipynb#X11sZmlsZQ%3D%3D?line=29'>30</a>\u001b[0m \u001b[39m    for j in range(lo, hi):\u001b[39;49;00m\n\u001b[1;32m     <a href='vscode-notebook-cell:/home/olokshyn/Projects/llama/codellama/api/Client.ipynb#X11sZmlsZQ%3D%3D?line=30'>31</a>\u001b[0m \u001b[39m        if arr[j] <= pivot:\u001b[39;49;00m\n\u001b[1;32m     <a href='vscode-notebook-cell:/home/olokshyn/Projects/llama/codellama/api/Client.ipynb#X11sZmlsZQ%3D%3D?line=31'>32</a>\u001b[0m \u001b[39m            i = i + 1\u001b[39;49;00m\n\u001b[1;32m     <a href='vscode-notebook-cell:/home/olokshyn/Projects/llama/codellama/api/Client.ipynb#X11sZmlsZQ%3D%3D?line=32'>33</a>\u001b[0m \u001b[39m            (arr[i], arr[j]) = (arr[j], arr[i])\u001b[39;49;00m\n\u001b[1;32m     <a href='vscode-notebook-cell:/home/olokshyn/Projects/llama/codellama/api/Client.ipynb#X11sZmlsZQ%3D%3D?line=33'>34</a>\u001b[0m \u001b[39m    (arr[i + 1], arr[hi]) = (arr[hi], arr[i + 1])\u001b[39;49;00m\n\u001b[1;32m     <a href='vscode-notebook-cell:/home/olokshyn/Projects/llama/codellama/api/Client.ipynb#X11sZmlsZQ%3D%3D?line=34'>35</a>\u001b[0m \u001b[39m    return i + 1\u001b[39;49;00m\n\u001b[1;32m     <a href='vscode-notebook-cell:/home/olokshyn/Projects/llama/codellama/api/Client.ipynb#X11sZmlsZQ%3D%3D?line=35'>36</a>\u001b[0m \n\u001b[1;32m     <a href='vscode-notebook-cell:/home/olokshyn/Projects/llama/codellama/api/Client.ipynb#X11sZmlsZQ%3D%3D?line=36'>37</a>\u001b[0m \n\u001b[1;32m     <a href='vscode-notebook-cell:/home/olokshyn/Projects/llama/codellama/api/Client.ipynb#X11sZmlsZQ%3D%3D?line=37'>38</a>\u001b[0m \u001b[39mdef quick_sort(array, low, high):\u001b[39;49;00m\n\u001b[1;32m     <a href='vscode-notebook-cell:/home/olokshyn/Projects/llama/codellama/api/Client.ipynb#X11sZmlsZQ%3D%3D?line=38'>39</a>\u001b[0m \u001b[39m    if low < high:\u001b[39;49;00m\n\u001b[1;32m     <a href='vscode-notebook-cell:/home/olokshyn/Projects/llama/codellama/api/Client.ipynb#X11sZmlsZQ%3D%3D?line=39'>40</a>\u001b[0m \u001b[39m        pi = partition(array, low, high)\u001b[39;49;00m\n\u001b[1;32m     <a href='vscode-notebook-cell:/home/olokshyn/Projects/llama/codellama/api/Client.ipynb#X11sZmlsZQ%3D%3D?line=40'>41</a>\u001b[0m \n\u001b[1;32m     <a href='vscode-notebook-cell:/home/olokshyn/Projects/llama/codellama/api/Client.ipynb#X11sZmlsZQ%3D%3D?line=41'>42</a>\u001b[0m \u001b[39m        quick_sort(array, low, pi - 1)\u001b[39;49;00m\n\u001b[1;32m     <a href='vscode-notebook-cell:/home/olokshyn/Projects/llama/codellama/api/Client.ipynb#X11sZmlsZQ%3D%3D?line=42'>43</a>\u001b[0m \n\u001b[1;32m     <a href='vscode-notebook-cell:/home/olokshyn/Projects/llama/codellama/api/Client.ipynb#X11sZmlsZQ%3D%3D?line=43'>44</a>\u001b[0m \u001b[39m        quick_sort(array, pi + 1, high)\u001b[39;49;00m\n\u001b[1;32m     <a href='vscode-notebook-cell:/home/olokshyn/Projects/llama/codellama/api/Client.ipynb#X11sZmlsZQ%3D%3D?line=44'>45</a>\u001b[0m \u001b[39m\"\"\"\u001b[39;49;00m,\n\u001b[1;32m     <a href='vscode-notebook-cell:/home/olokshyn/Projects/llama/codellama/api/Client.ipynb#X11sZmlsZQ%3D%3D?line=45'>46</a>\u001b[0m system_prompt\u001b[39m=\u001b[39;49m\u001b[39m\"\u001b[39;49m\u001b[39mGiven two code snippets separated by ==========, provide a score from 0 to 1 indicating how similar they are, where 0 means unrelated and 1 means identical.\u001b[39;49m\u001b[39m\"\u001b[39;49m,\n\u001b[1;32m     <a href='vscode-notebook-cell:/home/olokshyn/Projects/llama/codellama/api/Client.ipynb#X11sZmlsZQ%3D%3D?line=46'>47</a>\u001b[0m )\n",
      "\u001b[1;32m/home/olokshyn/Projects/llama/codellama/api/Client.ipynb Cell 10\u001b[0m line \u001b[0;36m2\n\u001b[1;32m     <a href='vscode-notebook-cell:/home/olokshyn/Projects/llama/codellama/api/Client.ipynb#X11sZmlsZQ%3D%3D?line=10'>11</a>\u001b[0m \u001b[39mdef\u001b[39;00m \u001b[39mask\u001b[39m(\n\u001b[1;32m     <a href='vscode-notebook-cell:/home/olokshyn/Projects/llama/codellama/api/Client.ipynb#X11sZmlsZQ%3D%3D?line=11'>12</a>\u001b[0m     user_prompt: \u001b[39mstr\u001b[39m,\n\u001b[1;32m     <a href='vscode-notebook-cell:/home/olokshyn/Projects/llama/codellama/api/Client.ipynb#X11sZmlsZQ%3D%3D?line=12'>13</a>\u001b[0m     \u001b[39m*\u001b[39m,\n\u001b[1;32m     <a href='vscode-notebook-cell:/home/olokshyn/Projects/llama/codellama/api/Client.ipynb#X11sZmlsZQ%3D%3D?line=13'>14</a>\u001b[0m     system_prompt: \u001b[39mstr\u001b[39m \u001b[39m=\u001b[39m \u001b[39m\"\u001b[39m\u001b[39m\"\u001b[39m,\n\u001b[1;32m     <a href='vscode-notebook-cell:/home/olokshyn/Projects/llama/codellama/api/Client.ipynb#X11sZmlsZQ%3D%3D?line=14'>15</a>\u001b[0m ) \u001b[39m-\u001b[39m\u001b[39m>\u001b[39m \u001b[39mstr\u001b[39m:\n\u001b[1;32m     <a href='vscode-notebook-cell:/home/olokshyn/Projects/llama/codellama/api/Client.ipynb#X11sZmlsZQ%3D%3D?line=15'>16</a>\u001b[0m     instructions \u001b[39m=\u001b[39m [\n\u001b[1;32m     <a href='vscode-notebook-cell:/home/olokshyn/Projects/llama/codellama/api/Client.ipynb#X11sZmlsZQ%3D%3D?line=16'>17</a>\u001b[0m         [\n\u001b[1;32m     <a href='vscode-notebook-cell:/home/olokshyn/Projects/llama/codellama/api/Client.ipynb#X11sZmlsZQ%3D%3D?line=17'>18</a>\u001b[0m             {\u001b[39m\"\u001b[39m\u001b[39mrole\u001b[39m\u001b[39m\"\u001b[39m: \u001b[39m\"\u001b[39m\u001b[39msystem\u001b[39m\u001b[39m\"\u001b[39m, \u001b[39m\"\u001b[39m\u001b[39mcontent\u001b[39m\u001b[39m\"\u001b[39m: system_prompt},\n\u001b[1;32m     <a href='vscode-notebook-cell:/home/olokshyn/Projects/llama/codellama/api/Client.ipynb#X11sZmlsZQ%3D%3D?line=18'>19</a>\u001b[0m             {\u001b[39m\"\u001b[39m\u001b[39mrole\u001b[39m\u001b[39m\"\u001b[39m: \u001b[39m\"\u001b[39m\u001b[39muser\u001b[39m\u001b[39m\"\u001b[39m, \u001b[39m\"\u001b[39m\u001b[39mcontent\u001b[39m\u001b[39m\"\u001b[39m: user_prompt},\n\u001b[1;32m     <a href='vscode-notebook-cell:/home/olokshyn/Projects/llama/codellama/api/Client.ipynb#X11sZmlsZQ%3D%3D?line=19'>20</a>\u001b[0m         ]\n\u001b[1;32m     <a href='vscode-notebook-cell:/home/olokshyn/Projects/llama/codellama/api/Client.ipynb#X11sZmlsZQ%3D%3D?line=20'>21</a>\u001b[0m     ]\n\u001b[0;32m---> <a href='vscode-notebook-cell:/home/olokshyn/Projects/llama/codellama/api/Client.ipynb#X11sZmlsZQ%3D%3D?line=21'>22</a>\u001b[0m     response \u001b[39m=\u001b[39m send_request(instructions)\n\u001b[1;32m     <a href='vscode-notebook-cell:/home/olokshyn/Projects/llama/codellama/api/Client.ipynb#X11sZmlsZQ%3D%3D?line=22'>23</a>\u001b[0m     \u001b[39mreturn\u001b[39;00m response[\u001b[39m0\u001b[39m][\u001b[39m\"\u001b[39m\u001b[39mgeneration\u001b[39m\u001b[39m\"\u001b[39m][\u001b[39m\"\u001b[39m\u001b[39mcontent\u001b[39m\u001b[39m\"\u001b[39m]\n",
      "\u001b[1;32m/home/olokshyn/Projects/llama/codellama/api/Client.ipynb Cell 10\u001b[0m line \u001b[0;36m8\n\u001b[1;32m      <a href='vscode-notebook-cell:/home/olokshyn/Projects/llama/codellama/api/Client.ipynb#X11sZmlsZQ%3D%3D?line=3'>4</a>\u001b[0m \u001b[39m\u001b[39m\u001b[39m\"\"\"\u001b[39;00m\n\u001b[1;32m      <a href='vscode-notebook-cell:/home/olokshyn/Projects/llama/codellama/api/Client.ipynb#X11sZmlsZQ%3D%3D?line=4'>5</a>\u001b[0m \u001b[39mSends a query to the server and returns the result.\u001b[39;00m\n\u001b[1;32m      <a href='vscode-notebook-cell:/home/olokshyn/Projects/llama/codellama/api/Client.ipynb#X11sZmlsZQ%3D%3D?line=5'>6</a>\u001b[0m \u001b[39m\"\"\"\u001b[39;00m\n\u001b[1;32m      <a href='vscode-notebook-cell:/home/olokshyn/Projects/llama/codellama/api/Client.ipynb#X11sZmlsZQ%3D%3D?line=6'>7</a>\u001b[0m response \u001b[39m=\u001b[39m requests\u001b[39m.\u001b[39mpost(\u001b[39m\"\u001b[39m\u001b[39mhttp://localhost:8000\u001b[39m\u001b[39m\"\u001b[39m, json\u001b[39m=\u001b[39minstructions)\n\u001b[0;32m----> <a href='vscode-notebook-cell:/home/olokshyn/Projects/llama/codellama/api/Client.ipynb#X11sZmlsZQ%3D%3D?line=7'>8</a>\u001b[0m \u001b[39mreturn\u001b[39;00m response\u001b[39m.\u001b[39;49mjson()\n",
      "File \u001b[0;32m~/anaconda3/envs/llama/lib/python3.10/site-packages/requests/models.py:975\u001b[0m, in \u001b[0;36mResponse.json\u001b[0;34m(self, **kwargs)\u001b[0m\n\u001b[1;32m    971\u001b[0m     \u001b[39mreturn\u001b[39;00m complexjson\u001b[39m.\u001b[39mloads(\u001b[39mself\u001b[39m\u001b[39m.\u001b[39mtext, \u001b[39m*\u001b[39m\u001b[39m*\u001b[39mkwargs)\n\u001b[1;32m    972\u001b[0m \u001b[39mexcept\u001b[39;00m JSONDecodeError \u001b[39mas\u001b[39;00m e:\n\u001b[1;32m    973\u001b[0m     \u001b[39m# Catch JSON-related errors and raise as requests.JSONDecodeError\u001b[39;00m\n\u001b[1;32m    974\u001b[0m     \u001b[39m# This aliases json.JSONDecodeError and simplejson.JSONDecodeError\u001b[39;00m\n\u001b[0;32m--> 975\u001b[0m     \u001b[39mraise\u001b[39;00m RequestsJSONDecodeError(e\u001b[39m.\u001b[39mmsg, e\u001b[39m.\u001b[39mdoc, e\u001b[39m.\u001b[39mpos)\n",
      "\u001b[0;31mJSONDecodeError\u001b[0m: Expecting value: line 1 column 1 (char 0)"
     ]
    }
   ],
   "source": [
    "ask(\n",
    "    \"\"\"\n",
    "def partition(array, low, high):\n",
    "    pivot = array[high]\n",
    "\n",
    "    i = low - 1\n",
    "\n",
    "    for j in range(low, high):\n",
    "        if array[j] <= pivot:\n",
    "            i = i + 1\n",
    "\n",
    "            (array[i], array[j]) = (array[j], array[i])\n",
    "\n",
    "    (array[i + 1], array[high]) = (array[high], array[i + 1])\n",
    "\n",
    "    return i + 1\n",
    "\n",
    "\n",
    "def quickSort(array, low, high):\n",
    "    if low < high:\n",
    "        pi = partition(array, low, high)\n",
    "\n",
    "        quickSort(array, low, pi - 1)\n",
    "\n",
    "        quickSort(array, pi + 1, high)\n",
    "==========\n",
    "def partition(arr, lo, hi):\n",
    "    pivot = arr[hi]\n",
    "    i = lo - 1\n",
    "    for j in range(lo, hi):\n",
    "        if arr[j] <= pivot:\n",
    "            i = i + 1\n",
    "            (arr[i], arr[j]) = (arr[j], arr[i])\n",
    "    (arr[i + 1], arr[hi]) = (arr[hi], arr[i + 1])\n",
    "    return i + 1\n",
    "\n",
    "\n",
    "def quick_sort(array, low, high):\n",
    "    if low < high:\n",
    "        pi = partition(array, low, high)\n",
    "\n",
    "        quick_sort(array, low, pi - 1)\n",
    "\n",
    "        quick_sort(array, pi + 1, high)\n",
    "\"\"\",\n",
    "system_prompt=\"Given two code snippets separated by ==========, provide a score from 0 to 1 indicating how similar they are, where 0 means unrelated and 1 means identical.\",\n",
    ")"
   ]
  },
  {
   "cell_type": "code",
   "execution_count": null,
   "metadata": {},
   "outputs": [],
   "source": []
  }
 ],
 "metadata": {
  "kernelspec": {
   "display_name": "llama",
   "language": "python",
   "name": "python3"
  },
  "language_info": {
   "codemirror_mode": {
    "name": "ipython",
    "version": 3
   },
   "file_extension": ".py",
   "mimetype": "text/x-python",
   "name": "python",
   "nbconvert_exporter": "python",
   "pygments_lexer": "ipython3",
   "version": "3.10.13"
  }
 },
 "nbformat": 4,
 "nbformat_minor": 2
}
